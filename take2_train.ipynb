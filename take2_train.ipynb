{
 "cells": [
  {
   "cell_type": "code",
   "execution_count": 1,
   "metadata": {},
   "outputs": [
    {
     "data": {
      "text/plain": [
       "'/device:GPU:0'"
      ]
     },
     "execution_count": 1,
     "metadata": {},
     "output_type": "execute_result"
    }
   ],
   "source": [
    "import tensorflow as tf\n",
    "tf.test.gpu_device_name()"
   ]
  },
  {
   "cell_type": "code",
   "execution_count": 2,
   "metadata": {},
   "outputs": [
    {
     "name": "stdout",
     "output_type": "stream",
     "text": [
      " add_bg.py                      eye-classifier.ipynb   \u001b[0m\u001b[01;34mramlal\u001b[0m/\r\n",
      " \u001b[01;34mcummilative_dataset\u001b[0m/           listing.py             rename.py\r\n",
      "\u001b[01;34m'cummilative_dataset (copy)'\u001b[0m/   main.py                take2_train.ipynb\r\n",
      " \u001b[01;34mdata\u001b[0m/                          one.txt                \u001b[01;35mtest.png\u001b[0m\r\n"
     ]
    }
   ],
   "source": [
    "ls"
   ]
  },
  {
   "cell_type": "code",
   "execution_count": 4,
   "metadata": {},
   "outputs": [],
   "source": [
    "from glob import glob\n",
    "from sklearn.model_selection import train_test_split\n",
    "\n",
    "zero = glob('data/train/a/*.png')\n",
    "twenty_five = glob('data/train/b/*.png')\n",
    "fifty = glob('data/train/c/*.png')\n",
    "seventy_five = glob('data/train/d/*.png')\n",
    "hundred = glob('data/train/e/*.png')"
   ]
  },
  {
   "cell_type": "code",
   "execution_count": 5,
   "metadata": {},
   "outputs": [],
   "source": [
    "zero_train, zero_test = train_test_split(zero, test_size=0.30)\n",
    "twenty_five_train, twenty_five_test = train_test_split(twenty_five, test_size=0.30)\n",
    "fifty_train, fifty_test = train_test_split(fifty, test_size=0.30)\n",
    "seventy_five_train, seventy_five_test = train_test_split(seventy_five, test_size=0.30)\n",
    "hundred_train, hundred_test = train_test_split(hundred, test_size=0.30)"
   ]
  },
  {
   "cell_type": "code",
   "execution_count": null,
   "metadata": {},
   "outputs": [],
   "source": []
  }
 ],
 "metadata": {
  "kernelspec": {
   "display_name": "Python 3",
   "language": "python",
   "name": "python3"
  },
  "language_info": {
   "codemirror_mode": {
    "name": "ipython",
    "version": 3
   },
   "file_extension": ".py",
   "mimetype": "text/x-python",
   "name": "python",
   "nbconvert_exporter": "python",
   "pygments_lexer": "ipython3",
   "version": "3.7.3"
  }
 },
 "nbformat": 4,
 "nbformat_minor": 2
}
